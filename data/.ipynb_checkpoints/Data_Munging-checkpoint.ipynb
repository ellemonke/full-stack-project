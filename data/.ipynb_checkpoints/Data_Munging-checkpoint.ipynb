{
 "cells": [
  {
   "cell_type": "code",
   "execution_count": 1,
   "metadata": {},
   "outputs": [],
   "source": [
    "import matplotlib.pyplot as plt\n",
    "import pandas as pd\n",
    "import numpy as np\n",
    "import csv"
   ]
  },
  {
   "cell_type": "code",
   "execution_count": 2,
   "metadata": {},
   "outputs": [],
   "source": [
    "happy_2015 = \"2015.csv\"\n",
    "happy_2016 = \"2016.csv\"\n",
    "happy_2017 = \"2017.csv\"\n",
    "happy_2018 = \"2018.csv\"\n",
    "happy_2019 = \"2019.csv\"\n"
   ]
  },
  {
   "cell_type": "code",
   "execution_count": 3,
   "metadata": {},
   "outputs": [],
   "source": [
    "df_2015 = pd.read_csv(happy_2015)\n",
    "df_2016 = pd.read_csv(happy_2016)\n",
    "df_2017 = pd.read_csv(happy_2017)\n",
    "df_2018 = pd.read_csv(happy_2018)\n",
    "df_2019 = pd.read_csv(happy_2019)"
   ]
  },
  {
   "cell_type": "markdown",
   "metadata": {},
   "source": [
    "2015\n",
    "\n",
    "remove: Standard Error\n",
    "\n",
    "rename: Happiness_score, Economy, Family, Health, Freedom, Trust, Generosity, Dystopia_Residual\n"
   ]
  },
  {
   "cell_type": "code",
   "execution_count": 4,
   "metadata": {},
   "outputs": [],
   "source": [
    "#df_2015.head()"
   ]
  },
  {
   "cell_type": "code",
   "execution_count": 5,
   "metadata": {},
   "outputs": [],
   "source": [
    "ordered_2015 = df_2015[['Country','Region','Happiness Rank','Happiness Score','Economy (GDP per Capita)','Family','Health (Life Expectancy)',\n",
    " 'Freedom','Trust (Government Corruption)','Generosity','Dystopia Residual']]"
   ]
  },
  {
   "cell_type": "code",
   "execution_count": 6,
   "metadata": {},
   "outputs": [
    {
     "data": {
      "text/plain": [
       "['Country',\n",
       " 'Region',\n",
       " 'Happiness Rank',\n",
       " 'Happiness Score',\n",
       " 'Economy (GDP per Capita)',\n",
       " 'Family',\n",
       " 'Health (Life Expectancy)',\n",
       " 'Freedom',\n",
       " 'Trust (Government Corruption)',\n",
       " 'Generosity',\n",
       " 'Dystopia Residual']"
      ]
     },
     "execution_count": 6,
     "metadata": {},
     "output_type": "execute_result"
    }
   ],
   "source": [
    "cols = list(ordered_2015.columns.values)\n",
    "cols"
   ]
  },
  {
   "cell_type": "code",
   "execution_count": 7,
   "metadata": {},
   "outputs": [],
   "source": [
    "y_2015 = ordered_2015.rename(columns={'Country':'Country',\n",
    " 'Region':'Region',\n",
    " 'Happiness Rank':'Happiness_Rank',\n",
    " 'Happiness Score':'Happiness_Score',\n",
    " 'Economy (GDP per Capita)':'Economy',\n",
    " 'Family':'Family',\n",
    " 'Health (Life Expectancy)':'Health',\n",
    " 'Freedom':'Freedom',\n",
    " 'Trust (Government Corruption)':'Trust',\n",
    " 'Generosity':'Generosity',\n",
    " 'Dystopia Residual':'Dystopia_Residual'})"
   ]
  },
  {
   "cell_type": "markdown",
   "metadata": {},
   "source": [
    "2016\n",
    "\n",
    "remove: lower C.I., Upper C.I.\n",
    "\n",
    "rename: Happiness_score, Economy, Family(x), Health, Freedom(x), Trust, Generosity(x), Dystopia_Residual"
   ]
  },
  {
   "cell_type": "code",
   "execution_count": 49,
   "metadata": {},
   "outputs": [],
   "source": [
    "ordered_2016 = df_2016[['Country','Region','Happiness Rank','Happiness Score','Economy (GDP per Capita)','Family','Health (Life Expectancy)',\n",
    " 'Freedom','Trust (Government Corruption)','Generosity','Dystopia Residual']]"
   ]
  },
  {
   "cell_type": "code",
   "execution_count": 9,
   "metadata": {},
   "outputs": [],
   "source": [
    "y_2016 = ordered_2016.rename(columns={'Country':'Country',\n",
    " 'Region':'Region',\n",
    " 'Happiness Rank':'Happiness_Rank',\n",
    " 'Happiness Score':'Happiness_Score',\n",
    " 'Economy (GDP per Capita)':'Economy',\n",
    " 'Family':'Family',\n",
    " 'Health (Life Expectancy)':'Health',\n",
    " 'Freedom':'Freedom',\n",
    " 'Trust (Government Corruption)':'Trust',\n",
    " 'Generosity':'Generosity',\n",
    " 'Dystopia Residual':'Dystopia_Residual'})"
   ]
  },
  {
   "cell_type": "markdown",
   "metadata": {},
   "source": [
    "2017\n",
    "\n",
    "remove: whisker.high whisker.low\n",
    "\n",
    "rename: Happiness_score, Economy, Family(x), Health, Freedom(x), Trust, Generosity(x), Dystopia_Residual\n",
    "\n",
    "reorder: to ^^"
   ]
  },
  {
   "cell_type": "code",
   "execution_count": 11,
   "metadata": {},
   "outputs": [],
   "source": [
    "ordered_2017 = df_2017[['Country','Happiness.Rank','Happiness.Score','Economy..GDP.per.Capita.','Family','Health..Life.Expectancy.',\n",
    " 'Freedom','Trust..Government.Corruption.','Generosity','Dystopia.Residual']]"
   ]
  },
  {
   "cell_type": "code",
   "execution_count": 13,
   "metadata": {},
   "outputs": [],
   "source": [
    "y_2017 = ordered_2017.rename(columns={'Country':'Country',\n",
    " 'Region':'Region',\n",
    " 'Happiness.Rank':'Happiness_Rank',\n",
    " 'Happiness.Score':'Happiness_Score',\n",
    " 'Economy..GDP.per.Capita.':'Economy',\n",
    " 'Family':'Family',\n",
    " 'Health..Life.Expectancy.':'Health',\n",
    " 'Freedom':'Freedom',\n",
    " 'Trust..Government.Corruption.':'Trust',\n",
    " 'Generosity':'Generosity',\n",
    " 'Dystopia.Residual':'Dystopia_Residual'})\n"
   ]
  },
  {
   "cell_type": "markdown",
   "metadata": {},
   "source": [
    "2018/2019\n",
    "\n",
    "remove: none\n",
    "\n",
    "rename: Happiness_score, Economy, Family(social Support), Health, Freedom, Trust(perceptions of corruption, Generosity(x)\n",
    "\n",
    "calculate: Dystopia_residual\n",
    "\n",
    "reorder: swap to ^^^^ same as 2015"
   ]
  },
  {
   "cell_type": "code",
   "execution_count": 50,
   "metadata": {},
   "outputs": [],
   "source": [
    "ordered_2018 = df_2018[['Country or region', 'Overall rank','Score','GDP per capita','Social support','Healthy life expectancy',\n",
    " 'Freedom to make life choices','Perceptions of corruption','Generosity']]\n"
   ]
  },
  {
   "cell_type": "code",
   "execution_count": 37,
   "metadata": {},
   "outputs": [
    {
     "name": "stderr",
     "output_type": "stream",
     "text": [
      "C:\\Users\\BDDom\\Anaconda3\\lib\\site-packages\\ipykernel_launcher.py:5: SettingWithCopyWarning: \n",
      "A value is trying to be set on a copy of a slice from a DataFrame.\n",
      "Try using .loc[row_indexer,col_indexer] = value instead\n",
      "\n",
      "See the caveats in the documentation: http://pandas.pydata.org/pandas-docs/stable/indexing.html#indexing-view-versus-copy\n",
      "  \"\"\"\n"
     ]
    }
   ],
   "source": [
    "ordered_2018['Dystopia_Residual'] = (\n",
    "                                    (ordered_2018['Score']) - (ordered_2018['GDP per capita'] \n",
    "                                    + ordered_2018['Social support'] + ordered_2018['Healthy life expectancy'] \n",
    "                                    + ordered_2018['Freedom to make life choices'] + ordered_2018['Perceptions of corruption'] \n",
    "                                    + ordered_2018['Generosity'])\n",
    "                                    ) "
   ]
  },
  {
   "cell_type": "code",
   "execution_count": 38,
   "metadata": {},
   "outputs": [
    {
     "data": {
      "text/plain": [
       "['Country or region',\n",
       " 'Overall rank',\n",
       " 'Score',\n",
       " 'GDP per capita',\n",
       " 'Social support',\n",
       " 'Healthy life expectancy',\n",
       " 'Freedom to make life choices',\n",
       " 'Perceptions of corruption',\n",
       " 'Generosity',\n",
       " 'Dystopia_Residual']"
      ]
     },
     "execution_count": 38,
     "metadata": {},
     "output_type": "execute_result"
    }
   ],
   "source": [
    "cols = list(ordered_2018.columns.values)\n",
    "cols"
   ]
  },
  {
   "cell_type": "code",
   "execution_count": 39,
   "metadata": {},
   "outputs": [],
   "source": [
    "y_2018 = ordered_2018.rename(columns={'Country or region':'Country',\n",
    " 'Overall rank':'Happiness_Rank',\n",
    " 'Score':'Happiness_Score',\n",
    " 'GDP per capita':'Economy',\n",
    " 'Social support':'Family',\n",
    " 'Healthy life expectancy':'Health',\n",
    " 'Freedom to make life choices':'Freedom',\n",
    " 'Perceptions of corruption':'Trust',\n",
    " 'Generosity':'Generosity',\n",
    " 'Dystopia_Residual':'Dystopia_Residual'})"
   ]
  },
  {
   "cell_type": "code",
   "execution_count": 48,
   "metadata": {},
   "outputs": [],
   "source": [
    "ordered_2019 = df_2019[['Country or region', 'Overall rank','Score','GDP per capita','Social support','Healthy life expectancy',\n",
    " 'Freedom to make life choices','Perceptions of corruption','Generosity']]\n"
   ]
  },
  {
   "cell_type": "code",
   "execution_count": 42,
   "metadata": {},
   "outputs": [
    {
     "name": "stderr",
     "output_type": "stream",
     "text": [
      "C:\\Users\\BDDom\\Anaconda3\\lib\\site-packages\\ipykernel_launcher.py:5: SettingWithCopyWarning: \n",
      "A value is trying to be set on a copy of a slice from a DataFrame.\n",
      "Try using .loc[row_indexer,col_indexer] = value instead\n",
      "\n",
      "See the caveats in the documentation: http://pandas.pydata.org/pandas-docs/stable/indexing.html#indexing-view-versus-copy\n",
      "  \"\"\"\n"
     ]
    }
   ],
   "source": [
    "ordered_2019['Dystopia_Residual'] = (\n",
    "                                    (ordered_2019['Score']) - (ordered_2019['GDP per capita'] \n",
    "                                    + ordered_2019['Social support'] + ordered_2019['Healthy life expectancy'] \n",
    "                                    + ordered_2019['Freedom to make life choices'] + ordered_2019['Perceptions of corruption'] \n",
    "                                    + ordered_2019['Generosity'])\n",
    "                                    ) "
   ]
  },
  {
   "cell_type": "code",
   "execution_count": 44,
   "metadata": {},
   "outputs": [],
   "source": [
    "y_2019 = ordered_2019.rename(columns={'Country or region':'Country',\n",
    " 'Overall rank':'Happiness_Rank',\n",
    " 'Score':'Happiness_Score',\n",
    " 'GDP per capita':'Economy',\n",
    " 'Social support':'Family',\n",
    " 'Healthy life expectancy':'Health',\n",
    " 'Freedom to make life choices':'Freedom',\n",
    " 'Perceptions of corruption':'Trust',\n",
    " 'Generosity':'Generosity',\n",
    " 'Dystopia_Residual':'Dystopia_Residual'})"
   ]
  },
  {
   "cell_type": "code",
   "execution_count": 47,
   "metadata": {},
   "outputs": [],
   "source": [
    "y_2015.to_csv(\"cleaned_data/2015.csv\", index=False, header=True)\n",
    "y_2016.to_csv(\"cleaned_data/2016.csv\", index=False, header=True)\n",
    "y_2017.to_csv(\"cleaned_data/2017.csv\", index=False, header=True)\n",
    "y_2018.to_csv(\"cleaned_data/2018.csv\", index=False, header=True)\n",
    "y_2019.to_csv(\"cleaned_data/2019.csv\", index=False, header=True)"
   ]
  },
  {
   "cell_type": "code",
   "execution_count": null,
   "metadata": {},
   "outputs": [],
   "source": []
  }
 ],
 "metadata": {
  "kernelspec": {
   "display_name": "Python [conda env:root] *",
   "language": "python",
   "name": "conda-root-py"
  },
  "language_info": {
   "codemirror_mode": {
    "name": "ipython",
    "version": 3
   },
   "file_extension": ".py",
   "mimetype": "text/x-python",
   "name": "python",
   "nbconvert_exporter": "python",
   "pygments_lexer": "ipython3",
   "version": "3.7.3"
  }
 },
 "nbformat": 4,
 "nbformat_minor": 2
}
