{
 "cells": [
  {
   "cell_type": "code",
   "execution_count": 2,
   "metadata": {},
   "outputs": [],
   "source": [
    "import matplotlib.pyplot as plt\n",
    "import pandas as pd\n",
    "import numpy as np\n",
    "import csv"
   ]
  },
  {
   "cell_type": "code",
   "execution_count": 3,
   "metadata": {},
   "outputs": [],
   "source": [
    "happy_2015 = \"2015.csv\"\n",
    "happy_2016 = \"2016.csv\"\n",
    "happy_2017 = \"2017.csv\"\n",
    "happy_2018 = \"2018.csv\"\n",
    "happy_2019 = \"2019.csv\"\n"
   ]
  },
  {
   "cell_type": "code",
   "execution_count": 4,
   "metadata": {},
   "outputs": [],
   "source": [
    "df_2015 = pd.read_csv(happy_2015)\n",
    "df_2016 = pd.read_csv(happy_2016)\n",
    "df_2017 = pd.read_csv(happy_2017)\n",
    "df_2018 = pd.read_csv(happy_2018)\n",
    "df_2019 = pd.read_csv(happy_2019)"
   ]
  },
  {
   "cell_type": "markdown",
   "metadata": {},
   "source": [
    "2015\n",
    "\n",
    "remove: Standard Error\n",
    "\n",
    "rename: Happiness_score, Economy, Family, Health, Freedom, Trust, Generosity, Dystopia_Residual\n"
   ]
  },
  {
   "cell_type": "code",
   "execution_count": 5,
   "metadata": {},
   "outputs": [],
   "source": [
    "#df_2015.head()"
   ]
  },
  {
   "cell_type": "code",
   "execution_count": 6,
   "metadata": {},
   "outputs": [],
   "source": [
    "ordered_2015 = df_2015[['Country','Region','Happiness Rank','Happiness Score','Economy (GDP per Capita)','Family','Health (Life Expectancy)',\n",
    " 'Freedom','Trust (Government Corruption)','Generosity','Dystopia Residual']]"
   ]
  },
  {
   "cell_type": "code",
   "execution_count": 7,
   "metadata": {},
   "outputs": [
    {
     "data": {
      "text/plain": [
       "['Country',\n",
       " 'Region',\n",
       " 'Happiness Rank',\n",
       " 'Happiness Score',\n",
       " 'Economy (GDP per Capita)',\n",
       " 'Family',\n",
       " 'Health (Life Expectancy)',\n",
       " 'Freedom',\n",
       " 'Trust (Government Corruption)',\n",
       " 'Generosity',\n",
       " 'Dystopia Residual']"
      ]
     },
     "execution_count": 7,
     "metadata": {},
     "output_type": "execute_result"
    }
   ],
   "source": [
    "cols = list(ordered_2015.columns.values)\n",
    "cols"
   ]
  },
  {
   "cell_type": "code",
   "execution_count": 8,
   "metadata": {},
   "outputs": [],
   "source": [
    "y_2015 = ordered_2015.rename(columns={'Country':'Country',\n",
    " 'Region':'Region',\n",
    " 'Happiness Rank':'Happiness_Rank',\n",
    " 'Happiness Score':'Happiness_Score',\n",
    " 'Economy (GDP per Capita)':'Economy',\n",
    " 'Family':'Family',\n",
    " 'Health (Life Expectancy)':'Health',\n",
    " 'Freedom':'Freedom',\n",
    " 'Trust (Government Corruption)':'Trust',\n",
    " 'Generosity':'Generosity',\n",
    " 'Dystopia Residual':'Dystopia_Residual'})"
   ]
  },
  {
   "cell_type": "markdown",
   "metadata": {},
   "source": [
    "2016\n",
    "\n",
    "remove: lower C.I., Upper C.I.\n",
    "\n",
    "rename: Happiness_score, Economy, Family(x), Health, Freedom(x), Trust, Generosity(x), Dystopia_Residual"
   ]
  },
  {
   "cell_type": "code",
   "execution_count": 9,
   "metadata": {},
   "outputs": [],
   "source": [
    "ordered_2016 = df_2016[['Country','Region','Happiness Rank','Happiness Score','Economy (GDP per Capita)','Family','Health (Life Expectancy)',\n",
    " 'Freedom','Trust (Government Corruption)','Generosity','Dystopia Residual']]"
   ]
  },
  {
   "cell_type": "code",
   "execution_count": 10,
   "metadata": {},
   "outputs": [],
   "source": [
    "y_2016 = ordered_2016.rename(columns={'Country':'Country',\n",
    " 'Region':'Region',\n",
    " 'Happiness Rank':'Happiness_Rank',\n",
    " 'Happiness Score':'Happiness_Score',\n",
    " 'Economy (GDP per Capita)':'Economy',\n",
    " 'Family':'Family',\n",
    " 'Health (Life Expectancy)':'Health',\n",
    " 'Freedom':'Freedom',\n",
    " 'Trust (Government Corruption)':'Trust',\n",
    " 'Generosity':'Generosity',\n",
    " 'Dystopia Residual':'Dystopia_Residual'})"
   ]
  },
  {
   "cell_type": "markdown",
   "metadata": {},
   "source": [
    "2017\n",
    "\n",
    "remove: whisker.high whisker.low\n",
    "\n",
    "rename: Happiness_score, Economy, Family(x), Health, Freedom(x), Trust, Generosity(x), Dystopia_Residual\n",
    "\n",
    "reorder: to ^^"
   ]
  },
  {
   "cell_type": "code",
   "execution_count": 11,
   "metadata": {},
   "outputs": [],
   "source": [
    "ordered_2017 = df_2017[['Country','Happiness.Rank','Happiness.Score','Economy..GDP.per.Capita.','Family','Health..Life.Expectancy.',\n",
    " 'Freedom','Trust..Government.Corruption.','Generosity','Dystopia.Residual']]"
   ]
  },
  {
   "cell_type": "code",
   "execution_count": 12,
   "metadata": {},
   "outputs": [],
   "source": [
    "y_2017 = ordered_2017.rename(columns={'Country':'Country',\n",
    " 'Region':'Region',\n",
    " 'Happiness.Rank':'Happiness_Rank',\n",
    " 'Happiness.Score':'Happiness_Score',\n",
    " 'Economy..GDP.per.Capita.':'Economy',\n",
    " 'Family':'Family',\n",
    " 'Health..Life.Expectancy.':'Health',\n",
    " 'Freedom':'Freedom',\n",
    " 'Trust..Government.Corruption.':'Trust',\n",
    " 'Generosity':'Generosity',\n",
    " 'Dystopia.Residual':'Dystopia_Residual'})\n"
   ]
  },
  {
   "cell_type": "markdown",
   "metadata": {},
   "source": [
    "2018/2019\n",
    "\n",
    "remove: none\n",
    "\n",
    "rename: Happiness_score, Economy, Family(social Support), Health, Freedom, Trust(perceptions of corruption, Generosity(x)\n",
    "\n",
    "calculate: Dystopia_residual\n",
    "\n",
    "reorder: swap to ^^^^ same as 2015"
   ]
  },
  {
   "cell_type": "code",
   "execution_count": 13,
   "metadata": {},
   "outputs": [],
   "source": [
    "ordered_2018 = df_2018[['Country or region', 'Overall rank','Score','GDP per capita','Social support','Healthy life expectancy',\n",
    " 'Freedom to make life choices','Perceptions of corruption','Generosity']]\n"
   ]
  },
  {
   "cell_type": "code",
   "execution_count": 14,
   "metadata": {},
   "outputs": [
    {
     "name": "stderr",
     "output_type": "stream",
     "text": [
      "C:\\Users\\BDDom\\Anaconda3\\lib\\site-packages\\ipykernel_launcher.py:5: SettingWithCopyWarning: \n",
      "A value is trying to be set on a copy of a slice from a DataFrame.\n",
      "Try using .loc[row_indexer,col_indexer] = value instead\n",
      "\n",
      "See the caveats in the documentation: http://pandas.pydata.org/pandas-docs/stable/indexing.html#indexing-view-versus-copy\n",
      "  \"\"\"\n"
     ]
    }
   ],
   "source": [
    "ordered_2018['Dystopia_Residual'] = (\n",
    "                                    (ordered_2018['Score']) - (ordered_2018['GDP per capita'] \n",
    "                                    + ordered_2018['Social support'] + ordered_2018['Healthy life expectancy'] \n",
    "                                    + ordered_2018['Freedom to make life choices'] + ordered_2018['Perceptions of corruption'] \n",
    "                                    + ordered_2018['Generosity'])\n",
    "                                    ) "
   ]
  },
  {
   "cell_type": "code",
   "execution_count": 15,
   "metadata": {},
   "outputs": [
    {
     "data": {
      "text/plain": [
       "['Country or region',\n",
       " 'Overall rank',\n",
       " 'Score',\n",
       " 'GDP per capita',\n",
       " 'Social support',\n",
       " 'Healthy life expectancy',\n",
       " 'Freedom to make life choices',\n",
       " 'Perceptions of corruption',\n",
       " 'Generosity',\n",
       " 'Dystopia_Residual']"
      ]
     },
     "execution_count": 15,
     "metadata": {},
     "output_type": "execute_result"
    }
   ],
   "source": [
    "cols = list(ordered_2018.columns.values)\n",
    "cols"
   ]
  },
  {
   "cell_type": "code",
   "execution_count": 16,
   "metadata": {},
   "outputs": [],
   "source": [
    "y_2018 = ordered_2018.rename(columns={'Country or region':'Country',\n",
    " 'Overall rank':'Happiness_Rank',\n",
    " 'Score':'Happiness_Score',\n",
    " 'GDP per capita':'Economy',\n",
    " 'Social support':'Family',\n",
    " 'Healthy life expectancy':'Health',\n",
    " 'Freedom to make life choices':'Freedom',\n",
    " 'Perceptions of corruption':'Trust',\n",
    " 'Generosity':'Generosity',\n",
    " 'Dystopia_Residual':'Dystopia_Residual'})"
   ]
  },
  {
   "cell_type": "code",
   "execution_count": 17,
   "metadata": {},
   "outputs": [],
   "source": [
    "ordered_2019 = df_2019[['Country or region', 'Overall rank','Score','GDP per capita','Social support','Healthy life expectancy',\n",
    " 'Freedom to make life choices','Perceptions of corruption','Generosity']]\n"
   ]
  },
  {
   "cell_type": "code",
   "execution_count": 18,
   "metadata": {},
   "outputs": [
    {
     "name": "stderr",
     "output_type": "stream",
     "text": [
      "C:\\Users\\BDDom\\Anaconda3\\lib\\site-packages\\ipykernel_launcher.py:5: SettingWithCopyWarning: \n",
      "A value is trying to be set on a copy of a slice from a DataFrame.\n",
      "Try using .loc[row_indexer,col_indexer] = value instead\n",
      "\n",
      "See the caveats in the documentation: http://pandas.pydata.org/pandas-docs/stable/indexing.html#indexing-view-versus-copy\n",
      "  \"\"\"\n"
     ]
    }
   ],
   "source": [
    "ordered_2019['Dystopia_Residual'] = (\n",
    "                                    (ordered_2019['Score']) - (ordered_2019['GDP per capita'] \n",
    "                                    + ordered_2019['Social support'] + ordered_2019['Healthy life expectancy'] \n",
    "                                    + ordered_2019['Freedom to make life choices'] + ordered_2019['Perceptions of corruption'] \n",
    "                                    + ordered_2019['Generosity'])\n",
    "                                    ) "
   ]
  },
  {
   "cell_type": "code",
   "execution_count": 19,
   "metadata": {},
   "outputs": [],
   "source": [
    "y_2019 = ordered_2019.rename(columns={'Country or region':'Country',\n",
    " 'Overall rank':'Happiness_Rank',\n",
    " 'Score':'Happiness_Score',\n",
    " 'GDP per capita':'Economy',\n",
    " 'Social support':'Family',\n",
    " 'Healthy life expectancy':'Health',\n",
    " 'Freedom to make life choices':'Freedom',\n",
    " 'Perceptions of corruption':'Trust',\n",
    " 'Generosity':'Generosity',\n",
    " 'Dystopia_Residual':'Dystopia_Residual'})"
   ]
  },
  {
   "cell_type": "code",
   "execution_count": 20,
   "metadata": {},
   "outputs": [
    {
     "ename": "PermissionError",
     "evalue": "[Errno 13] Permission denied: 'cleaned_data/2015.csv'",
     "output_type": "error",
     "traceback": [
      "\u001b[1;31m---------------------------------------------------------------------------\u001b[0m",
      "\u001b[1;31mPermissionError\u001b[0m                           Traceback (most recent call last)",
      "\u001b[1;32m<ipython-input-20-837c194b3be1>\u001b[0m in \u001b[0;36m<module>\u001b[1;34m\u001b[0m\n\u001b[1;32m----> 1\u001b[1;33m \u001b[0my_2015\u001b[0m\u001b[1;33m.\u001b[0m\u001b[0mto_csv\u001b[0m\u001b[1;33m(\u001b[0m\u001b[1;34m\"cleaned_data/2015.csv\"\u001b[0m\u001b[1;33m,\u001b[0m \u001b[0mindex\u001b[0m\u001b[1;33m=\u001b[0m\u001b[1;32mFalse\u001b[0m\u001b[1;33m,\u001b[0m \u001b[0mheader\u001b[0m\u001b[1;33m=\u001b[0m\u001b[1;32mTrue\u001b[0m\u001b[1;33m)\u001b[0m\u001b[1;33m\u001b[0m\u001b[1;33m\u001b[0m\u001b[0m\n\u001b[0m\u001b[0;32m      2\u001b[0m \u001b[0my_2016\u001b[0m\u001b[1;33m.\u001b[0m\u001b[0mto_csv\u001b[0m\u001b[1;33m(\u001b[0m\u001b[1;34m\"cleaned_data/2016.csv\"\u001b[0m\u001b[1;33m,\u001b[0m \u001b[0mindex\u001b[0m\u001b[1;33m=\u001b[0m\u001b[1;32mFalse\u001b[0m\u001b[1;33m,\u001b[0m \u001b[0mheader\u001b[0m\u001b[1;33m=\u001b[0m\u001b[1;32mTrue\u001b[0m\u001b[1;33m)\u001b[0m\u001b[1;33m\u001b[0m\u001b[1;33m\u001b[0m\u001b[0m\n\u001b[0;32m      3\u001b[0m \u001b[0my_2017\u001b[0m\u001b[1;33m.\u001b[0m\u001b[0mto_csv\u001b[0m\u001b[1;33m(\u001b[0m\u001b[1;34m\"cleaned_data/2017.csv\"\u001b[0m\u001b[1;33m,\u001b[0m \u001b[0mindex\u001b[0m\u001b[1;33m=\u001b[0m\u001b[1;32mFalse\u001b[0m\u001b[1;33m,\u001b[0m \u001b[0mheader\u001b[0m\u001b[1;33m=\u001b[0m\u001b[1;32mTrue\u001b[0m\u001b[1;33m)\u001b[0m\u001b[1;33m\u001b[0m\u001b[1;33m\u001b[0m\u001b[0m\n\u001b[0;32m      4\u001b[0m \u001b[0my_2018\u001b[0m\u001b[1;33m.\u001b[0m\u001b[0mto_csv\u001b[0m\u001b[1;33m(\u001b[0m\u001b[1;34m\"cleaned_data/2018.csv\"\u001b[0m\u001b[1;33m,\u001b[0m \u001b[0mindex\u001b[0m\u001b[1;33m=\u001b[0m\u001b[1;32mFalse\u001b[0m\u001b[1;33m,\u001b[0m \u001b[0mheader\u001b[0m\u001b[1;33m=\u001b[0m\u001b[1;32mTrue\u001b[0m\u001b[1;33m)\u001b[0m\u001b[1;33m\u001b[0m\u001b[1;33m\u001b[0m\u001b[0m\n\u001b[0;32m      5\u001b[0m \u001b[0my_2019\u001b[0m\u001b[1;33m.\u001b[0m\u001b[0mto_csv\u001b[0m\u001b[1;33m(\u001b[0m\u001b[1;34m\"cleaned_data/2019.csv\"\u001b[0m\u001b[1;33m,\u001b[0m \u001b[0mindex\u001b[0m\u001b[1;33m=\u001b[0m\u001b[1;32mFalse\u001b[0m\u001b[1;33m,\u001b[0m \u001b[0mheader\u001b[0m\u001b[1;33m=\u001b[0m\u001b[1;32mTrue\u001b[0m\u001b[1;33m)\u001b[0m\u001b[1;33m\u001b[0m\u001b[1;33m\u001b[0m\u001b[0m\n",
      "\u001b[1;32m~\\Anaconda3\\lib\\site-packages\\pandas\\core\\generic.py\u001b[0m in \u001b[0;36mto_csv\u001b[1;34m(self, path_or_buf, sep, na_rep, float_format, columns, header, index, index_label, mode, encoding, compression, quoting, quotechar, line_terminator, chunksize, tupleize_cols, date_format, doublequote, escapechar, decimal)\u001b[0m\n\u001b[0;32m   3018\u001b[0m                                  \u001b[0mdoublequote\u001b[0m\u001b[1;33m=\u001b[0m\u001b[0mdoublequote\u001b[0m\u001b[1;33m,\u001b[0m\u001b[1;33m\u001b[0m\u001b[1;33m\u001b[0m\u001b[0m\n\u001b[0;32m   3019\u001b[0m                                  escapechar=escapechar, decimal=decimal)\n\u001b[1;32m-> 3020\u001b[1;33m         \u001b[0mformatter\u001b[0m\u001b[1;33m.\u001b[0m\u001b[0msave\u001b[0m\u001b[1;33m(\u001b[0m\u001b[1;33m)\u001b[0m\u001b[1;33m\u001b[0m\u001b[1;33m\u001b[0m\u001b[0m\n\u001b[0m\u001b[0;32m   3021\u001b[0m \u001b[1;33m\u001b[0m\u001b[0m\n\u001b[0;32m   3022\u001b[0m         \u001b[1;32mif\u001b[0m \u001b[0mpath_or_buf\u001b[0m \u001b[1;32mis\u001b[0m \u001b[1;32mNone\u001b[0m\u001b[1;33m:\u001b[0m\u001b[1;33m\u001b[0m\u001b[1;33m\u001b[0m\u001b[0m\n",
      "\u001b[1;32m~\\Anaconda3\\lib\\site-packages\\pandas\\io\\formats\\csvs.py\u001b[0m in \u001b[0;36msave\u001b[1;34m(self)\u001b[0m\n\u001b[0;32m    155\u001b[0m             f, handles = _get_handle(self.path_or_buf, self.mode,\n\u001b[0;32m    156\u001b[0m                                      \u001b[0mencoding\u001b[0m\u001b[1;33m=\u001b[0m\u001b[0mself\u001b[0m\u001b[1;33m.\u001b[0m\u001b[0mencoding\u001b[0m\u001b[1;33m,\u001b[0m\u001b[1;33m\u001b[0m\u001b[1;33m\u001b[0m\u001b[0m\n\u001b[1;32m--> 157\u001b[1;33m                                      compression=self.compression)\n\u001b[0m\u001b[0;32m    158\u001b[0m             \u001b[0mclose\u001b[0m \u001b[1;33m=\u001b[0m \u001b[1;32mTrue\u001b[0m\u001b[1;33m\u001b[0m\u001b[1;33m\u001b[0m\u001b[0m\n\u001b[0;32m    159\u001b[0m \u001b[1;33m\u001b[0m\u001b[0m\n",
      "\u001b[1;32m~\\Anaconda3\\lib\\site-packages\\pandas\\io\\common.py\u001b[0m in \u001b[0;36m_get_handle\u001b[1;34m(path_or_buf, mode, encoding, compression, memory_map, is_text)\u001b[0m\n\u001b[0;32m    422\u001b[0m         \u001b[1;32melif\u001b[0m \u001b[0mencoding\u001b[0m\u001b[1;33m:\u001b[0m\u001b[1;33m\u001b[0m\u001b[1;33m\u001b[0m\u001b[0m\n\u001b[0;32m    423\u001b[0m             \u001b[1;31m# Python 3 and encoding\u001b[0m\u001b[1;33m\u001b[0m\u001b[1;33m\u001b[0m\u001b[1;33m\u001b[0m\u001b[0m\n\u001b[1;32m--> 424\u001b[1;33m             \u001b[0mf\u001b[0m \u001b[1;33m=\u001b[0m \u001b[0mopen\u001b[0m\u001b[1;33m(\u001b[0m\u001b[0mpath_or_buf\u001b[0m\u001b[1;33m,\u001b[0m \u001b[0mmode\u001b[0m\u001b[1;33m,\u001b[0m \u001b[0mencoding\u001b[0m\u001b[1;33m=\u001b[0m\u001b[0mencoding\u001b[0m\u001b[1;33m,\u001b[0m \u001b[0mnewline\u001b[0m\u001b[1;33m=\u001b[0m\u001b[1;34m\"\"\u001b[0m\u001b[1;33m)\u001b[0m\u001b[1;33m\u001b[0m\u001b[1;33m\u001b[0m\u001b[0m\n\u001b[0m\u001b[0;32m    425\u001b[0m         \u001b[1;32melif\u001b[0m \u001b[0mis_text\u001b[0m\u001b[1;33m:\u001b[0m\u001b[1;33m\u001b[0m\u001b[1;33m\u001b[0m\u001b[0m\n\u001b[0;32m    426\u001b[0m             \u001b[1;31m# Python 3 and no explicit encoding\u001b[0m\u001b[1;33m\u001b[0m\u001b[1;33m\u001b[0m\u001b[1;33m\u001b[0m\u001b[0m\n",
      "\u001b[1;31mPermissionError\u001b[0m: [Errno 13] Permission denied: 'cleaned_data/2015.csv'"
     ]
    }
   ],
   "source": [
    "y_2015.to_csv(\"cleaned_data/2015.csv\", index=False, header=True)\n",
    "y_2016.to_csv(\"cleaned_data/2016.csv\", index=False, header=True)\n",
    "y_2017.to_csv(\"cleaned_data/2017.csv\", index=False, header=True)\n",
    "y_2018.to_csv(\"cleaned_data/2018.csv\", index=False, header=True)\n",
    "y_2019.to_csv(\"cleaned_data/2019.csv\", index=False, header=True)"
   ]
  },
  {
   "cell_type": "code",
   "execution_count": 21,
   "metadata": {},
   "outputs": [],
   "source": [
    "#2015\n",
    "#Country\n",
    "#Happiness_Score\n",
    "Happiness_2015 = y_2015[['Country', 'Happiness_Score', 'Happiness_Rank']]\n",
    "#Economy\n",
    "Economy_2015 = y_2015[['Country', 'Economy']]\n",
    "#Family\n",
    "Family_2015 = y_2015[['Country', 'Family']]\n",
    "#Health\n",
    "Health_2015 = y_2015[['Country', 'Health']]\n",
    "#Freedom \n",
    "Freedom_2015 = y_2015[['Country', 'Freedom']]\n",
    "#Trust\n",
    "Trust_2015 = y_2015[['Country', 'Trust']]\n",
    "#Generosity\n",
    "Generosity_2015 = y_2015[['Country', 'Generosity']]\n",
    "#Dystopia_Residual\n",
    "Dystopia_2015 = y_2015[['Country', 'Dystopia_Residual']]"
   ]
  },
  {
   "cell_type": "code",
   "execution_count": 25,
   "metadata": {},
   "outputs": [],
   "source": [
    "#2016\n",
    "#Country\n",
    "#Happiness_Score\n",
    "Happiness_2016 = y_2016[['Country', 'Happiness_Score', 'Happiness_Rank']]\n",
    "#Economy\n",
    "Economy_2016 = y_2016[['Country', 'Economy']]\n",
    "#Family\n",
    "Family_2016 = y_2016[['Country', 'Family']]\n",
    "#Health\n",
    "Health_2016 = y_2016[['Country', 'Health']]\n",
    "#Freedom \n",
    "Freedom_2016 = y_2016[['Country', 'Freedom']]\n",
    "#Trust\n",
    "Trust_2016 = y_2016[['Country', 'Trust']]\n",
    "#Generosity\n",
    "Generosity_2016 = y_2016[['Country', 'Generosity']]\n",
    "#Dystopia_Residual\n",
    "Dystopia_2016 = y_2016[['Country', 'Dystopia_Residual']]"
   ]
  },
  {
   "cell_type": "code",
   "execution_count": 26,
   "metadata": {},
   "outputs": [],
   "source": [
    "#2017\n",
    "#Country\n",
    "#Happiness_Score\n",
    "Happiness_2017 = y_2017[['Country', 'Happiness_Score', 'Happiness_Rank']]\n",
    "#Economy\n",
    "Economy_2017 = y_2017[['Country', 'Economy']]\n",
    "#Family\n",
    "Family_2017 = y_2017[['Country', 'Family']]\n",
    "#Health\n",
    "Health_2017 = y_2017[['Country', 'Health']]\n",
    "#Freedom \n",
    "Freedom_2017 = y_2017[['Country', 'Freedom']]\n",
    "#Trust\n",
    "Trust_2017 = y_2017[['Country', 'Trust']]\n",
    "#Generosity\n",
    "Generosity_2017 = y_2017[['Country', 'Generosity']]\n",
    "#Dystopia_Residual\n",
    "Dystopia_2017 = y_2017[['Country', 'Dystopia_Residual']]"
   ]
  },
  {
   "cell_type": "code",
   "execution_count": 27,
   "metadata": {},
   "outputs": [],
   "source": [
    "#2018\n",
    "#Country\n",
    "#Happiness_Score\n",
    "Happiness_2018 = y_2018[['Country', 'Happiness_Score', 'Happiness_Rank']]\n",
    "#Economy\n",
    "Economy_2018 = y_2018[['Country', 'Economy']]\n",
    "#Family\n",
    "Family_2018 = y_2018[['Country', 'Family']]\n",
    "#Health\n",
    "Health_2018 = y_2018[['Country', 'Health']]\n",
    "#Freedom \n",
    "Freedom_2018 = y_2018[['Country', 'Freedom']]\n",
    "#Trust\n",
    "Trust_2018 = y_2018[['Country', 'Trust']]\n",
    "#Generosity\n",
    "Generosity_2018 = y_2018[['Country', 'Generosity']]\n",
    "#Dystopia_Residual\n",
    "Dystopia_2018 = y_2018[['Country', 'Dystopia_Residual']]"
   ]
  },
  {
   "cell_type": "code",
   "execution_count": 28,
   "metadata": {},
   "outputs": [],
   "source": [
    "#2019\n",
    "#Country\n",
    "#Happiness_Score\n",
    "Happiness_2019 = y_2019[['Country', 'Happiness_Score', 'Happiness_Rank']]\n",
    "#Economy\n",
    "Economy_2019 = y_2019[['Country', 'Economy']]\n",
    "#Family\n",
    "Family_2019 = y_2019[['Country', 'Family']]\n",
    "#Health\n",
    "Health_2019 = y_2019[['Country', 'Health']]\n",
    "#Freedom \n",
    "Freedom_2019 = y_2019[['Country', 'Freedom']]\n",
    "#Trust\n",
    "Trust_2019 = y_2019[['Country', 'Trust']]\n",
    "#Generosity\n",
    "Generosity_2019 = y_2019[['Country', 'Generosity']]\n",
    "#Dystopia_Residual\n",
    "Dystopia_2019 = y_2019[['Country', 'Dystopia_Residual']]"
   ]
  },
  {
   "cell_type": "code",
   "execution_count": 29,
   "metadata": {},
   "outputs": [],
   "source": [
    "#Happiness\n",
    "Happiness_2015.to_csv(\"GeoChart_Data/Happiness_2015.csv\", index=False, header=True)\n",
    "Happiness_2016.to_csv(\"GeoChart_Data/Happiness_2016.csv\", index=False, header=True)\n",
    "Happiness_2017.to_csv(\"GeoChart_Data/Happiness_2017.csv\", index=False, header=True)\n",
    "Happiness_2018.to_csv(\"GeoChart_Data/Happiness_2018.csv\", index=False, header=True)\n",
    "Happiness_2019.to_csv(\"GeoChart_Data/Happiness_2019.csv\", index=False, header=True)\n",
    "#Economy\n",
    "Economy_2015.to_csv(\"GeoChart_Data/Economy_2015.csv\", index=False, header=True)\n",
    "Economy_2016.to_csv(\"GeoChart_Data/Economy_2016.csv\", index=False, header=True)\n",
    "Economy_2017.to_csv(\"GeoChart_Data/Economy_2017.csv\", index=False, header=True)\n",
    "Economy_2018.to_csv(\"GeoChart_Data/Economy_2018.csv\", index=False, header=True)\n",
    "Economy_2019.to_csv(\"GeoChart_Data/Economy_2019.csv\", index=False, header=True)\n",
    "#Family\n",
    "Family_2015.to_csv(\"GeoChart_Data/Family_2015.csv\", index=False, header=True)\n",
    "Family_2016.to_csv(\"GeoChart_Data/Family_2016.csv\", index=False, header=True)\n",
    "Family_2017.to_csv(\"GeoChart_Data/Family_2017.csv\", index=False, header=True)\n",
    "Family_2018.to_csv(\"GeoChart_Data/Family_2018.csv\", index=False, header=True)\n",
    "Family_2019.to_csv(\"GeoChart_Data/Family_2019.csv\", index=False, header=True)\n",
    "#Health\n",
    "Health_2015.to_csv(\"GeoChart_Data/Health_2015.csv\", index=False, header=True)\n",
    "Health_2016.to_csv(\"GeoChart_Data/Health_2016.csv\", index=False, header=True)\n",
    "Health_2017.to_csv(\"GeoChart_Data/Health_2017.csv\", index=False, header=True)\n",
    "Health_2018.to_csv(\"GeoChart_Data/Health_2018.csv\", index=False, header=True)\n",
    "Health_2019.to_csv(\"GeoChart_Data/Health_2019.csv\", index=False, header=True)\n",
    "#Freedom\n",
    "Freedom_2015.to_csv(\"GeoChart_Data/Freedom_2015.csv\", index=False, header=True)\n",
    "Freedom_2016.to_csv(\"GeoChart_Data/Freedom_2016.csv\", index=False, header=True)\n",
    "Freedom_2017.to_csv(\"GeoChart_Data/Freedom_2017.csv\", index=False, header=True)\n",
    "Freedom_2018.to_csv(\"GeoChart_Data/Freedom_2018.csv\", index=False, header=True)\n",
    "Freedom_2019.to_csv(\"GeoChart_Data/Freedom_2019.csv\", index=False, header=True)\n",
    "#Trust\n",
    "Trust_2015.to_csv(\"GeoChart_Data/Trust_2015.csv\", index=False, header=True)\n",
    "Trust_2016.to_csv(\"GeoChart_Data/Trust_2016.csv\", index=False, header=True)\n",
    "Trust_2017.to_csv(\"GeoChart_Data/Trust_2017.csv\", index=False, header=True)\n",
    "Trust_2018.to_csv(\"GeoChart_Data/Trust_2018.csv\", index=False, header=True)\n",
    "Trust_2019.to_csv(\"GeoChart_Data/Trust_2019.csv\", index=False, header=True)\n",
    "#Generosity\n",
    "Generosity_2015.to_csv(\"GeoChart_Data/Generosity_2015.csv\", index=False, header=True)\n",
    "Generosity_2016.to_csv(\"GeoChart_Data/Generosity_2016.csv\", index=False, header=True)\n",
    "Generosity_2017.to_csv(\"GeoChart_Data/Generosity_2017.csv\", index=False, header=True)\n",
    "Generosity_2018.to_csv(\"GeoChart_Data/Generosity_2018.csv\", index=False, header=True)\n",
    "Generosity_2019.to_csv(\"GeoChart_Data/Generosity_2019.csv\", index=False, header=True)\n",
    "#Dystopia_Residual\n",
    "Dystopia_2015.to_csv(\"GeoChart_Data/Dystopia_2015.csv\", index=False, header=True)\n",
    "Dystopia_2016.to_csv(\"GeoChart_Data/Dystopia_2016.csv\", index=False, header=True)\n",
    "Dystopia_2017.to_csv(\"GeoChart_Data/Dystopia_2017.csv\", index=False, header=True)\n",
    "Dystopia_2018.to_csv(\"GeoChart_Data/Dystopia_2018.csv\", index=False, header=True)\n",
    "Dystopia_2019.to_csv(\"GeoChart_Data/Dystopia_2019.csv\", index=False, header=True)"
   ]
  },
  {
   "cell_type": "code",
   "execution_count": null,
   "metadata": {},
   "outputs": [],
   "source": []
  }
 ],
 "metadata": {
  "kernelspec": {
   "display_name": "Python [conda env:root] *",
   "language": "python",
   "name": "conda-root-py"
  },
  "language_info": {
   "codemirror_mode": {
    "name": "ipython",
    "version": 3
   },
   "file_extension": ".py",
   "mimetype": "text/x-python",
   "name": "python",
   "nbconvert_exporter": "python",
   "pygments_lexer": "ipython3",
   "version": "3.7.3"
  }
 },
 "nbformat": 4,
 "nbformat_minor": 2
}
